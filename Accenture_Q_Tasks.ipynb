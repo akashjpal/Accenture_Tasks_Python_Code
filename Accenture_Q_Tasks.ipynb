{
 "cells": [
  {
   "cell_type": "code",
   "execution_count": 1,
   "id": "37d0451a",
   "metadata": {},
   "outputs": [
    {
     "name": "stdout",
     "output_type": "stream",
     "text": [
      "4\n"
     ]
    }
   ],
   "source": [
    "#Q1)\n",
    "'''The function accepts two positive integers ‘r’ and ‘unit’ and a positive integer array ‘arr’ of size ‘n’ as its argument ‘r’ represents the number of rats present in an area, ‘unit’ is the amount of food each rat consumes and each ith element of array ‘arr’ represents the amount of food present in ‘i+1’ house number, where 0 <= i\n",
    "Note:\n",
    "•\tReturn -1 if the array is null\n",
    "•\tReturn 0 if the total amount of food from all houses is not sufficient for all the rats.\n",
    "•\tComputed values lie within the integer range.\n",
    "Example:\n",
    "Input:\n",
    "•\tr: 7\n",
    "•\tunit: 2\n",
    "•\tn: 8\n",
    "•\tarr: 2 8 3 5 7 4 1 2\n",
    "Output:\n",
    "4\n",
    "'''\n",
    "def function(r,unit,arr):\n",
    "    req_food = r*unit\n",
    "    sum_arr = 0\n",
    "    for i in arr:\n",
    "        sum_arr += i\n",
    "        \n",
    "    if sum_arr == 0:\n",
    "        return -1\n",
    "    elif sum_arr < req_food:\n",
    "        return 0\n",
    "    elif sum_arr > req_food:\n",
    "        sum_arr1 = 0\n",
    "        for i in range(0,len(arr)):\n",
    "            sum_arr1 += arr[i]\n",
    "            if sum_arr1 >= req_food:\n",
    "                return i+1\n",
    "\n",
    "print(function(7,2,[2,8,3,5,4,1,2]))\n",
    "    "
   ]
  },
  {
   "cell_type": "code",
   "execution_count": 33,
   "id": "ef95aea2",
   "metadata": {},
   "outputs": [
    {
     "name": "stdout",
     "output_type": "stream",
     "text": [
      "Enter your Password: aA1_67\n",
      "Valid Password\n",
      "Enter your Password: a987 abC012\n",
      "Invalid Password\n",
      "Enter your Password: gfugw\n",
      "Invalid Password\n",
      "Enter your Password: ege\n",
      "Invalid Password\n",
      "Enter your Password: fae\n",
      "Invalid Password\n"
     ]
    }
   ],
   "source": [
    "#Q2)\n",
    "\n",
    "# int CheckPassword(char str[], int n);\n",
    "# The function accepts string str of size n as an argument. Implement the function which returns 1 if given string str is valid password else 0.\n",
    "# str is a valid password if it satisfies the below conditions.\n",
    "# •\t– At least 4 characters\n",
    "# •\t– At least one numeric digit\n",
    "# •\t– At Least one Capital Letter\n",
    "# •\t– Must not have space or slash (/)\n",
    "# •\t– Starting character must not be a number\n",
    "\n",
    "\n",
    "def CheckPassword(str1,n):\n",
    "#     count_ch = 0\n",
    "    count_n = 0\n",
    "    count_cl = 0\n",
    "    if len(str1)>=4 and len(re.findall(\" \",str1))==0 and re.match('[0-9]',str1) == None and len(re.findall(\"/\",str1))==0:\n",
    "        for i in str1:\n",
    "            if re.search('[0-9]',i) != None:\n",
    "                count_n += 1\n",
    "            if re.search('[A-Z]',i) != None:\n",
    "                count_cl += 1\n",
    "        if  count_n >=1 and count_cl >= 1:\n",
    "            print(\"Valid Password\")\n",
    "        else:\n",
    "            print(\"Invalid Password\")\n",
    "    else:\n",
    "        print(\"Invalid Password\")\n",
    "for i in range(5):\n",
    "    str1 = input(\"Enter your Password: \")\n",
    "    CheckPassword(str1,len(str1))"
   ]
  },
  {
   "cell_type": "code",
   "execution_count": 38,
   "id": "292b7146",
   "metadata": {},
   "outputs": [
    {
     "name": "stdout",
     "output_type": "stream",
     "text": [
      "Enter your Password: 1234_a\n",
      "Invalid Password\n",
      "Enter your Password: a1\n",
      "Invalid Password\n",
      "Enter your Password: a134..AZ\n",
      "Valid Password\n",
      "Enter your Password: dgsgre462\n",
      "Valid Password\n",
      "Enter your Password: qt3t24t345wr\n",
      "Valid Password\n"
     ]
    }
   ],
   "source": [
    "import re\n",
    "def CheckPassword(str1,n):\n",
    "#     count_ch = 0\n",
    "    count_n = 0\n",
    "    count_cl = 0\n",
    "    if len(str1)>=4 :\n",
    "            if len(re.findall('[0-9]+',str1)) != 0 and len(re.findall(\" \",str1)) == 0 and re.match('[0-9]',str1[0]) == None and len(re.findall('[A-Za-z]+',str1)) != 0  and len(re.findall('/',str1)) == 0:\n",
    "                print(\"Valid Password\")\n",
    "            else:\n",
    "                print(\"Invalid Password\")\n",
    "    else:\n",
    "        print(\"Invalid Password\")\n",
    "for i in range(5):\n",
    "    str1 = input(\"Enter your Password: \")\n",
    "#     print(len(re.findall(\" \",str1)))\n",
    "    CheckPassword(str1,len(str1))"
   ]
  },
  {
   "cell_type": "code",
   "execution_count": 36,
   "id": "fc47588c",
   "metadata": {},
   "outputs": [
    {
     "name": "stdout",
     "output_type": "stream",
     "text": [
      "0\n"
     ]
    }
   ],
   "source": [
    " print(len(re.findall(\" \",\"aA1_67\")))"
   ]
  },
  {
   "cell_type": "code",
   "execution_count": 28,
   "id": "b47a74fc",
   "metadata": {},
   "outputs": [
    {
     "name": "stdout",
     "output_type": "stream",
     "text": [
      "None\n"
     ]
    }
   ],
   "source": [
    "import re\n",
    "# print(re.search('[a-z]','akashpal').span())\n",
    "str1 = \"akashpal\"\n",
    "# print(len(re.findall(\" \",str1)))\n",
    "print(re.match('[0-9]',str1))"
   ]
  },
  {
   "cell_type": "code",
   "execution_count": 39,
   "id": "76c2557d",
   "metadata": {},
   "outputs": [
    {
     "name": "stdout",
     "output_type": "stream",
     "text": [
      "[3, 1, 2, 4]\n"
     ]
    }
   ],
   "source": [
    "#Q3)\n",
    "'''Q.3 You are given a function,\n",
    "int findCount(int arr[], int length, int num, int diff);\n",
    "The function accepts an integer array ‘arr’, its length and two integer variables ‘num’ and ‘diff’. Implement this function to find and return the number of elements of ‘arr’ having an absolute difference of less than or equal to ‘diff’ with ‘num’.\n",
    "Note: In case there is no element in ‘arr’ whose absolute difference with ‘num’ is less than or equal to ‘diff’, return -1.\n",
    "Example:\n",
    "Input:\n",
    "•\tarr: 12 3 14 56 77 13\n",
    "•\tnum: 13\n",
    "•\tdiff: 2\n",
    "Output:\n",
    "3'''\n",
    "\n",
    "def findcount(arr,length,num,diff):\n",
    "    ans = []\n",
    "    key = abs(num-diff)\n",
    "    if len(arr) == 0:\n",
    "        return -1\n",
    "    for i in arr:\n",
    "        if i<=key:\n",
    "            ans.append(i)\n",
    "    return ans\n",
    "\n",
    "arr = [12,3,1,2,4,15,18,19]\n",
    "num = 12\n",
    "diff = 16\n",
    "print(findcount(arr,len(arr),num,diff))"
   ]
  },
  {
   "cell_type": "code",
   "execution_count": 1,
   "id": "d4ed7f19",
   "metadata": {},
   "outputs": [
    {
     "name": "stdout",
     "output_type": "stream",
     "text": [
      "90\n"
     ]
    }
   ],
   "source": [
    "#Q4)\n",
    "'''Q.4  Implement the following Function \n",
    "def differenceofSum(n. m)\n",
    "The function accepts two integers n, m as arguments Find the sum of all numbers in range from 1 to m(both inclusive) that are not divisible by n. Return difference between sum of integers not divisible by n with sum of numbers divisible by n.\n",
    "Assumption:\n",
    "•\tn>0 and m>0\n",
    "•\tSum lies between integral range\n",
    "Example\n",
    "Input\n",
    "n:4\n",
    "m:20\n",
    "Output\n",
    "90'''\n",
    "\n",
    "def difference(n,m):\n",
    "    sum_nd = 0\n",
    "    sum_d = 0\n",
    "    for i in range(1,m+1):\n",
    "        if i%n != 0 :\n",
    "            sum_nd += i\n",
    "        if i%n == 0 :\n",
    "            sum_d += i\n",
    "    return sum_nd,sum_d\n",
    "print(difference(4,20)[0]-difference(4,20)[1])"
   ]
  },
  {
   "cell_type": "code",
   "execution_count": 44,
   "id": "1def2972",
   "metadata": {},
   "outputs": [
    {
     "name": "stdout",
     "output_type": "stream",
     "text": [
      "8\n"
     ]
    }
   ],
   "source": [
    "#Q5)\n",
    "'''Q.5 You are required to implement the following Function \n",
    "def LargeSmallSum(arr)\n",
    "The function accepts an integers arr of size ’length’ as its arguments you are required to return the sum of second largest  element from the even positions and second smallest from the odd position of given ‘arr’\n",
    "Assumption:\n",
    "    All array elements are unique\n",
    "    Treat the 0th position as even\n",
    "NOTE\n",
    "    Return 0 if array is empty\n",
    "    Return 0, if array length is 3 or less than 3\n",
    "Example\n",
    "Input\n",
    "arr:3 2 1 7 5 4\n",
    "Output\n",
    "7'''\n",
    "from math import *\n",
    "\n",
    "def LargeSmallSum(arr,n):\n",
    "    if len(arr) == 0 and len(arr) <= 3:\n",
    "        return 0\n",
    "    res = 0\n",
    "    odd = []\n",
    "    even = []\n",
    "    \n",
    "    for i in range(0,n):\n",
    "        if i % 2 != 0:\n",
    "            odd.append(arr[i])\n",
    "        else:\n",
    "            even.append(arr[i])\n",
    "            \n",
    "    even.sort()\n",
    "    odd.sort()\n",
    "    res = even[-2]+odd[1]\n",
    "    return res \n",
    "    \n",
    "arr = [3,2,1,7,5,4]\n",
    "# arr = [6,5,3,8,2,1,0]\n",
    "print(LargeSmallSum(arr,len(arr)))"
   ]
  },
  {
   "cell_type": "code",
   "execution_count": 13,
   "id": "f8942049",
   "metadata": {},
   "outputs": [
    {
     "name": "stdout",
     "output_type": "stream",
     "text": [
      "7\n",
      "6 5 3 8 2 1 0\n",
      "8\n"
     ]
    }
   ],
   "source": [
    "lenght=int(input())\n",
    "arr=list(map(int,input().split()))\n",
    "odd=[]\n",
    "even=[]\n",
    "if len(arr)!=0 and len(arr)>3:\n",
    "    for i in range(lenght):\n",
    "        if i%2==0:\n",
    "            even.append(arr[i])\n",
    "        else:\n",
    "            odd.append(arr[i])\n",
    "    odd.sort()\n",
    "    even.sort()\n",
    "\n",
    "    print(odd[-2]+even[-2])\n",
    "else:\n",
    "    print(0)"
   ]
  },
  {
   "cell_type": "code",
   "execution_count": 57,
   "id": "ce50e4dc",
   "metadata": {},
   "outputs": [
    {
     "name": "stdout",
     "output_type": "stream",
     "text": [
      "5 2 4 3 7 9 1\n",
      "2\n"
     ]
    }
   ],
   "source": [
    "# Q6)\n",
    "'''def ProductSmallestPair(sum, arr)\n",
    "The function accepts an integers sum and an integer array arr of size n. Implement the function to find the pair, (arr[j], arr[k]) where j!=k, Such that arr[j] and arr[k] are the least two elements of array (arr[j] + arr[k] <= sum) and return the product of element of this pair\n",
    "NOTE\n",
    "•\tReturn -1 if array is empty or if n<2\n",
    "•\tReturn 0, if no such pairs found\n",
    "•\tAll computed values lie within integer range\n",
    "Example\n",
    "Input\n",
    "sum:9\n",
    "Arr:5 2 4 3 9 7 1\n",
    "Output\n",
    "2'''\n",
    "from re import *\n",
    "def ProductSmallestPair(sum1,arr):\n",
    "    if len(arr)==0 and len(arr) < 2:\n",
    "        return -1\n",
    "    arr.sort()\n",
    "    prod = arr[0]*arr[1]\n",
    "    sum2 = arr[0]+arr[1]\n",
    "    if sum2<=sum1:\n",
    "        return prod\n",
    "    else:\n",
    "        return 0\n",
    "    \n",
    "arr=list(map(int,input().split()))\n",
    "sum1 = sum(arr)\n",
    "print(ProductSmallestPair(sum1,arr))"
   ]
  },
  {
   "cell_type": "code",
   "execution_count": 80,
   "id": "af0e68f7",
   "metadata": {},
   "outputs": [
    {
     "name": "stdout",
     "output_type": "stream",
     "text": [
      "BA\n"
     ]
    }
   ],
   "source": [
    "# int(718/12)\n",
    "a = chr(65)\n",
    "b = a+chr(66)\n",
    "print(b[::-1])"
   ]
  },
  {
   "cell_type": "code",
   "execution_count": 1,
   "id": "d3439c92",
   "metadata": {},
   "outputs": [
    {
     "name": "stdout",
     "output_type": "stream",
     "text": [
      "Enter a base number: 12\n",
      "Enter a number that you want to divide: 718\n",
      "4BA\n"
     ]
    }
   ],
   "source": [
    "#Q7)\n",
    "'''N-base notation is a system for writing numbers that uses only n different symbols, This symbols are the first n symbols from the given notation list(Including the symbol for o) Decimal to n base notation are (0:0, 1:1, 2:2, 3:3, 4:4, 5:5, 6:6, 7:7, 8:8, 9:9, 10:A,11:B and so on upto 35:Z)\n",
    "Implement the following function\n",
    "Char* DectoNBase(int n, int num):\n",
    "The function accept positive integer n and num Implement the function to calculate the n-base equivalent of num and return the same as a string\n",
    "Steps:\n",
    "1.\tDivide the decimal number by n,Treat the division as the integer division\n",
    "2.\tWrite the the remainder (in  n-base notation)\n",
    "3.\tDivide the quotient again by n, Treat the division as integer division\n",
    "4.\tRepeat step 2 and 3 until the quotient is 0\n",
    "5.\tThe n-base value is the sequence of the remainders from last to first\n",
    "Assumption:\n",
    "1 < n < = 36\n",
    "Example\n",
    "Input\n",
    "n: 12\n",
    "num: 718\n",
    "Output\n",
    "4BA'''\n",
    "def DectoNBase(n, num):\n",
    "    a = \"\" # a string will never concatenate with an integer , therefore decalared it as string \n",
    "    while num>0:\n",
    "        rem = num%n # caluculates remainder\n",
    "        if rem>9: # if remainder is greater than then only the given condition will apply\n",
    "            a+=chr((num % n)+55) # \"chr\" converts integer value to ascii value in string form\n",
    "        else:\n",
    "            a+=str(rem) # to convert an integer to string \"str\" function is required\n",
    "        num = num // n # performs floating divison operation , quotient will be in integer form by using \"//\"\n",
    "    print(a[::-1])\n",
    "\n",
    "n = int(input(\"Enter a base number: \"))\n",
    "num = int(input(\"Enter a number that you want to divide: \"))\n",
    "DectoNBase(n,num)\n"
   ]
  },
  {
   "cell_type": "code",
   "execution_count": 10,
   "id": "e7f10945",
   "metadata": {},
   "outputs": [
    {
     "name": "stdout",
     "output_type": "stream",
     "text": [
      "2\n"
     ]
    }
   ],
   "source": [
    "'''Q.8  Problem Statement\n",
    "A carry is a digit that is transferred to left if sum of digits exceeds 9 while adding two numbers from right-to-left one digit at a time\n",
    "You are required to implement the following function.\n",
    "Int NumberOfCarries(int num1 , int num2);\n",
    "The functions accepts two numbers ‘num1’ and ‘num2’ as its arguments. You are required to calculate and return  the total number of carries generated while adding digits of two numbers ‘num1’ and ‘ num2’.\n",
    "Assumption: num1, num2>=0\n",
    "Example:\n",
    "•\tInput\n",
    "o\tNum 1: 451\n",
    "o\tNum 2: 349\n",
    "•\tOutput\n",
    "o\t2'''\n",
    "\n",
    "def carry_cal(num1,num2):\n",
    "    carry = 0\n",
    "    sum1 = 0\n",
    "    count = 0\n",
    "    while num1>0 or num2>0:\n",
    "        a = num1 % 10\n",
    "        b = num2 % 10\n",
    "        num1 = num1 // 10\n",
    "        num2 = num2 // 10\n",
    "        sum1 = a+b+carry\n",
    "        if sum1 > 9:\n",
    "            carry = 1\n",
    "            count += 1\n",
    "        else:\n",
    "            carry = 0\n",
    "    return count\n",
    "\n",
    "print(carry_cal(451,349))"
   ]
  }
 ],
 "metadata": {
  "kernelspec": {
   "display_name": "Python 3 (ipykernel)",
   "language": "python",
   "name": "python3"
  },
  "language_info": {
   "codemirror_mode": {
    "name": "ipython",
    "version": 3
   },
   "file_extension": ".py",
   "mimetype": "text/x-python",
   "name": "python",
   "nbconvert_exporter": "python",
   "pygments_lexer": "ipython3",
   "version": "3.9.7"
  }
 },
 "nbformat": 4,
 "nbformat_minor": 5
}
